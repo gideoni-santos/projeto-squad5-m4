{
 "cells": [
  {
   "cell_type": "markdown",
   "metadata": {},
   "source": [
    "# **Análise de preço de venda da gasolina e etanol**\n",
    "\n",
    "---"
   ]
  },
  {
   "cell_type": "markdown",
   "metadata": {},
   "source": [
    "### **1. Entendendo o projeto:**\n",
    "\n",
    "Nesta etapa serão estudados os objetivos do projeto, o que será estudado e quais as análises necessárias para responder as questões apresentadas e quais problemas podemos resolver com esses insights.\n",
    "\n"
   ]
  },
  {
   "cell_type": "markdown",
   "metadata": {},
   "source": [
    "**1.1. Objetivos do projeto**\n",
    "\n",
    "Este projeto tem como objetivo realizar uma análise exploratória relacionada à série histórica de preço de venda da gasolina e do etanol. Para esta análise ultilizaremos os dados fornecidos pela Agência Nacional de Petróleo e Gás\n",
    "Natural e Biocombustíveis(ANP).\n",
    "\n",
    "\n",
    "\n",
    "**1.2. Sobre a ANP**\n",
    "\n",
    "A ANP é um centro de referência em dados e informações sobre a indústria de petróleo e gás natural no Brasil, que mantém o Banco de Dados de Exploração e Produção (BDEP); divulga as estatísticas oficiais sobre reservas, refino e produção de petróleo, gás e biocombustíveis no Brasil; realiza e divulga pesquisas sobre qualidade dos combustíveis e lubrificantes e sobre o comportamento dos preços desses produtos; promove estudos sobre o potencial petrolífero e o desenvolvimento do setor; entre outras atividades.\n",
    "\n",
    "A ANP tem diversas áreas de atuação. São elas:\n",
    "\n",
    "- Biocombustíveis\n",
    "- Segurança operacional\n",
    "- Meio ambiente\n",
    "- Pesquisa e desenvolvimento\n",
    "- Participação da pequena e média empresa\n",
    "- Fiscalização\n",
    "- Distribuição e comércio\n",
    "- Refino, processamento, transporte e armazenamento de petróleo, gás natural e derivados\n",
    "\n",
    "<center><img alt=\"Logo anp\" width=\"30%\" src=\"./img/anp.jpg\"></center>"
   ]
  },
  {
   "cell_type": "markdown",
   "metadata": {},
   "source": [
    "**1.3. Quais os problemas a serem resolvidos?**\n",
    "\n",
    "Esta análise tem como objetivo responder as seguintes perguntas:\n",
    "\n",
    "1. Como se comportaram o preço dos combustíveis durante os dois meses citados? Os valores do\n",
    "etanol e da gasolina tiveram uma tendência de queda ou diminuição?\n",
    "2. Qual o preço médio da gasolina e do etanol nesses dois meses?\n",
    "3. Quais os 5 estados com o preço médio da gasolina e do etanol mais caros?\n",
    "4. Qual o preço médio da gasolina e do etanol por estado?\n",
    "5. Qual o município que possui o menor preço para a gasolina e para o etanol?\n",
    "6. Qual o município que possui o maior preço para a gasolina e para o etanol?\n",
    "7. Qual a região que possui o maior valor médio da gasolina?\n",
    "8. Qual a região que possui o menor valor médio do etanol?\n",
    "9. Há alguma correlação entre o valor do combustível (gasolina e etanol) e a região onde ele é vendido?\n",
    "10. Há alguma correlação entre o valor do combustível (gasolina e etanol) e a bandeira que vende ele?\n",
    "- (Perguntas Extras)\n",
    "11. Qual a proporção de postos de bandeira branca, grandes marcas e pequenas marcas em cada região? Isso pode influenciar nos preços?\n",
    "12. Estados com maior aumento percentual no valor de venda do etanol nos dois meses\n",
    "13. Qual bandeira tem mais postos de combustível?"
   ]
  }
 ],
 "metadata": {
  "language_info": {
   "name": "python"
  },
  "orig_nbformat": 4
 },
 "nbformat": 4,
 "nbformat_minor": 2
}
